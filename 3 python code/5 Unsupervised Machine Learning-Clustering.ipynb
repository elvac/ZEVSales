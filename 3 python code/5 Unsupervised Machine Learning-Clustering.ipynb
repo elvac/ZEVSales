{
 "cells": [
  {
   "cell_type": "code",
   "execution_count": 51,
   "id": "4be91347",
   "metadata": {},
   "outputs": [],
   "source": [
    "#Importing libraries\n",
    "import pandas as pd\n",
    "import numpy as np\n",
    "import seaborn as sns\n",
    "import matplotlib\n",
    "import matplotlib.pyplot as plt\n",
    "import os\n",
    "import sklearn\n",
    "from sklearn.cluster import KMeans # Here is where to import the k-means algorithm from scikit-learn.\n",
    "import pylab as pl # PyLab is a convenience module that bulk imports matplotlib."
   ]
  },
  {
   "cell_type": "code",
   "execution_count": 52,
   "id": "368a8de8",
   "metadata": {},
   "outputs": [],
   "source": [
    "# This option ensures the graphs created are displayed in the notebook without the need to \"call\" them specifically.\n",
    "\n",
    "%matplotlib inline"
   ]
  },
  {
   "cell_type": "code",
   "execution_count": 53,
   "id": "e8da7958",
   "metadata": {},
   "outputs": [],
   "source": [
    "# Import datasets\n",
    "path=r'/Users/elvachen/Documents/DA Learning/Immersion-Exercise/6/2original data'\n",
    "df_merged=pd.read_csv(os.path.join(path,'merged_by_year.csv'),index_col = False)"
   ]
  },
  {
   "cell_type": "code",
   "execution_count": 54,
   "id": "cc29d5c9",
   "metadata": {},
   "outputs": [
    {
     "data": {
      "text/html": [
       "<div>\n",
       "<style scoped>\n",
       "    .dataframe tbody tr th:only-of-type {\n",
       "        vertical-align: middle;\n",
       "    }\n",
       "\n",
       "    .dataframe tbody tr th {\n",
       "        vertical-align: top;\n",
       "    }\n",
       "\n",
       "    .dataframe thead th {\n",
       "        text-align: right;\n",
       "    }\n",
       "</style>\n",
       "<table border=\"1\" class=\"dataframe\">\n",
       "  <thead>\n",
       "    <tr style=\"text-align: right;\">\n",
       "      <th></th>\n",
       "      <th>Unnamed: 0</th>\n",
       "      <th>year</th>\n",
       "      <th>county</th>\n",
       "      <th>zev_pop</th>\n",
       "      <th>non_zev_pop</th>\n",
       "      <th>zev_sales</th>\n",
       "      <th>gasoline_price</th>\n",
       "      <th>diesel_price</th>\n",
       "      <th>population</th>\n",
       "    </tr>\n",
       "  </thead>\n",
       "  <tbody>\n",
       "    <tr>\n",
       "      <th>0</th>\n",
       "      <td>0</td>\n",
       "      <td>2010</td>\n",
       "      <td>Alameda</td>\n",
       "      <td>20.0</td>\n",
       "      <td>885402.0</td>\n",
       "      <td>13</td>\n",
       "      <td>3.090846</td>\n",
       "      <td>3.157423</td>\n",
       "      <td>1512986</td>\n",
       "    </tr>\n",
       "    <tr>\n",
       "      <th>1</th>\n",
       "      <td>1</td>\n",
       "      <td>2010</td>\n",
       "      <td>Amador</td>\n",
       "      <td>1.0</td>\n",
       "      <td>30480.0</td>\n",
       "      <td>1</td>\n",
       "      <td>3.090846</td>\n",
       "      <td>3.157423</td>\n",
       "      <td>37886</td>\n",
       "    </tr>\n",
       "    <tr>\n",
       "      <th>2</th>\n",
       "      <td>2</td>\n",
       "      <td>2010</td>\n",
       "      <td>Contra Costa</td>\n",
       "      <td>10.0</td>\n",
       "      <td>666294.0</td>\n",
       "      <td>9</td>\n",
       "      <td>3.090846</td>\n",
       "      <td>3.157423</td>\n",
       "      <td>1052540</td>\n",
       "    </tr>\n",
       "    <tr>\n",
       "      <th>3</th>\n",
       "      <td>3</td>\n",
       "      <td>2010</td>\n",
       "      <td>Fresno</td>\n",
       "      <td>2.0</td>\n",
       "      <td>481145.0</td>\n",
       "      <td>2</td>\n",
       "      <td>3.090846</td>\n",
       "      <td>3.157423</td>\n",
       "      <td>932039</td>\n",
       "    </tr>\n",
       "    <tr>\n",
       "      <th>4</th>\n",
       "      <td>4</td>\n",
       "      <td>2010</td>\n",
       "      <td>Humboldt</td>\n",
       "      <td>2.0</td>\n",
       "      <td>90949.0</td>\n",
       "      <td>1</td>\n",
       "      <td>3.090846</td>\n",
       "      <td>3.157423</td>\n",
       "      <td>135009</td>\n",
       "    </tr>\n",
       "  </tbody>\n",
       "</table>\n",
       "</div>"
      ],
      "text/plain": [
       "   Unnamed: 0  year        county  zev_pop  non_zev_pop  zev_sales  \\\n",
       "0           0  2010       Alameda     20.0     885402.0         13   \n",
       "1           1  2010        Amador      1.0      30480.0          1   \n",
       "2           2  2010  Contra Costa     10.0     666294.0          9   \n",
       "3           3  2010        Fresno      2.0     481145.0          2   \n",
       "4           4  2010      Humboldt      2.0      90949.0          1   \n",
       "\n",
       "   gasoline_price  diesel_price  population  \n",
       "0        3.090846      3.157423     1512986  \n",
       "1        3.090846      3.157423       37886  \n",
       "2        3.090846      3.157423     1052540  \n",
       "3        3.090846      3.157423      932039  \n",
       "4        3.090846      3.157423      135009  "
      ]
     },
     "execution_count": 54,
     "metadata": {},
     "output_type": "execute_result"
    }
   ],
   "source": [
    "df_merged.head()"
   ]
  },
  {
   "cell_type": "code",
   "execution_count": 55,
   "id": "8edb18c4",
   "metadata": {},
   "outputs": [],
   "source": [
    "# Drop column \"county\" which is not numeric\n",
    "df_merged= df_merged.drop(columns = ['county'])"
   ]
  },
  {
   "cell_type": "code",
   "execution_count": 56,
   "id": "beb69772",
   "metadata": {
    "scrolled": true
   },
   "outputs": [],
   "source": [
    "# Lower the granularity of the column \"population\"\n",
    "df_merged['population']=df_merged['population']/1000"
   ]
  },
  {
   "cell_type": "code",
   "execution_count": 57,
   "id": "2de4ad40",
   "metadata": {},
   "outputs": [],
   "source": [
    "# Lower the granularity of the column \"non_zev_pop\"\n",
    "df_merged['non_zev_pop']=df_merged['non_zev_pop']/1000"
   ]
  },
  {
   "cell_type": "markdown",
   "id": "7505cea5",
   "metadata": {},
   "source": [
    "### The elbow technique"
   ]
  },
  {
   "cell_type": "code",
   "execution_count": 58,
   "id": "3df34b87",
   "metadata": {},
   "outputs": [],
   "source": [
    "num_cl = range(1, 10) # Defines the range of potential clusters in the data.\n",
    "kmeans = [KMeans(n_clusters=i) for i in num_cl] # Defines k-means clusters in the range assigned above."
   ]
  },
  {
   "cell_type": "code",
   "execution_count": 59,
   "id": "5ffc50fa",
   "metadata": {},
   "outputs": [
    {
     "data": {
      "text/plain": [
       "[-199661623292.5558,\n",
       " -64452296243.3334,\n",
       " -31308901836.598198,\n",
       " -17142395030.581625,\n",
       " -12052194078.716099,\n",
       " -8233485967.338818,\n",
       " -6272524208.15208,\n",
       " -4720985981.366151,\n",
       " -3879234622.191063]"
      ]
     },
     "execution_count": 59,
     "metadata": {},
     "output_type": "execute_result"
    }
   ],
   "source": [
    "score = [kmeans[i].fit(df_merged).score(df_merged) for i in range(len(kmeans))] # Creates a score that represents \n",
    "# a rate of variation for the given cluster option.\n",
    "\n",
    "score"
   ]
  },
  {
   "cell_type": "code",
   "execution_count": 60,
   "id": "0bc81711",
   "metadata": {},
   "outputs": [
    {
     "data": {
      "image/png": "[encoded data removed]",
      "text/plain": [
       "<Figure size 432x288 with 1 Axes>"
      ]
     },
     "metadata": {
      "needs_background": "light"
     },
     "output_type": "display_data"
    }
   ],
   "source": [
    "# Plot the elbow curve using PyLab.\n",
    "\n",
    "pl.plot(num_cl,score)\n",
    "pl.xlabel('Number of Clusters')\n",
    "pl.ylabel('Score')\n",
    "pl.title('Elbow Curve')\n",
    "pl.show()"
   ]
  },
  {
   "cell_type": "markdown",
   "id": "b793d2bf",
   "metadata": {},
   "source": [
    "### Employ k-means clustering"
   ]
  },
  {
   "cell_type": "code",
   "execution_count": 61,
   "id": "db665a7d",
   "metadata": {},
   "outputs": [],
   "source": [
    "# Create the k-means object.\n",
    "\n",
    "kmeans = KMeans(n_clusters = 3, n_jobs = -1) "
   ]
  },
  {
   "cell_type": "code",
   "execution_count": 62,
   "id": "b8c36e21",
   "metadata": {},
   "outputs": [
    {
     "name": "stderr",
     "output_type": "stream",
     "text": [
      "/Users/elvachen/opt/anaconda3/lib/python3.9/site-packages/sklearn/cluster/_kmeans.py:792: FutureWarning: 'n_jobs' was deprecated in version 0.23 and will be removed in 1.0 (renaming of 0.25).\n",
      "  warnings.warn(\"'n_jobs' was deprecated in version 0.23 and will be\"\n"
     ]
    },
    {
     "data": {
      "text/plain": [
       "KMeans(n_clusters=3, n_jobs=-1)"
      ]
     },
     "execution_count": 62,
     "metadata": {},
     "output_type": "execute_result"
    }
   ],
   "source": [
    "# Fit the k-means object to the data.\n",
    "\n",
    "kmeans.fit(df_merged)"
   ]
  },
  {
   "cell_type": "code",
   "execution_count": 63,
   "id": "51b4e2ef",
   "metadata": {},
   "outputs": [
    {
     "name": "stderr",
     "output_type": "stream",
     "text": [
      "/Users/elvachen/opt/anaconda3/lib/python3.9/site-packages/sklearn/cluster/_kmeans.py:792: FutureWarning: 'n_jobs' was deprecated in version 0.23 and will be removed in 1.0 (renaming of 0.25).\n",
      "  warnings.warn(\"'n_jobs' was deprecated in version 0.23 and will be\"\n"
     ]
    }
   ],
   "source": [
    "df_merged['clusters'] = kmeans.fit_predict(df_merged)"
   ]
  },
  {
   "cell_type": "code",
   "execution_count": 64,
   "id": "dd163bbc",
   "metadata": {},
   "outputs": [
    {
     "data": {
      "text/html": [
       "<div>\n",
       "<style scoped>\n",
       "    .dataframe tbody tr th:only-of-type {\n",
       "        vertical-align: middle;\n",
       "    }\n",
       "\n",
       "    .dataframe tbody tr th {\n",
       "        vertical-align: top;\n",
       "    }\n",
       "\n",
       "    .dataframe thead th {\n",
       "        text-align: right;\n",
       "    }\n",
       "</style>\n",
       "<table border=\"1\" class=\"dataframe\">\n",
       "  <thead>\n",
       "    <tr style=\"text-align: right;\">\n",
       "      <th></th>\n",
       "      <th>Unnamed: 0</th>\n",
       "      <th>year</th>\n",
       "      <th>zev_pop</th>\n",
       "      <th>non_zev_pop</th>\n",
       "      <th>zev_sales</th>\n",
       "      <th>gasoline_price</th>\n",
       "      <th>diesel_price</th>\n",
       "      <th>population</th>\n",
       "      <th>clusters</th>\n",
       "    </tr>\n",
       "  </thead>\n",
       "  <tbody>\n",
       "    <tr>\n",
       "      <th>0</th>\n",
       "      <td>0</td>\n",
       "      <td>2010</td>\n",
       "      <td>20.0</td>\n",
       "      <td>885.402</td>\n",
       "      <td>13</td>\n",
       "      <td>3.090846</td>\n",
       "      <td>3.157423</td>\n",
       "      <td>1512.986</td>\n",
       "      <td>0</td>\n",
       "    </tr>\n",
       "    <tr>\n",
       "      <th>1</th>\n",
       "      <td>1</td>\n",
       "      <td>2010</td>\n",
       "      <td>1.0</td>\n",
       "      <td>30.480</td>\n",
       "      <td>1</td>\n",
       "      <td>3.090846</td>\n",
       "      <td>3.157423</td>\n",
       "      <td>37.886</td>\n",
       "      <td>0</td>\n",
       "    </tr>\n",
       "    <tr>\n",
       "      <th>2</th>\n",
       "      <td>2</td>\n",
       "      <td>2010</td>\n",
       "      <td>10.0</td>\n",
       "      <td>666.294</td>\n",
       "      <td>9</td>\n",
       "      <td>3.090846</td>\n",
       "      <td>3.157423</td>\n",
       "      <td>1052.540</td>\n",
       "      <td>0</td>\n",
       "    </tr>\n",
       "    <tr>\n",
       "      <th>3</th>\n",
       "      <td>3</td>\n",
       "      <td>2010</td>\n",
       "      <td>2.0</td>\n",
       "      <td>481.145</td>\n",
       "      <td>2</td>\n",
       "      <td>3.090846</td>\n",
       "      <td>3.157423</td>\n",
       "      <td>932.039</td>\n",
       "      <td>0</td>\n",
       "    </tr>\n",
       "    <tr>\n",
       "      <th>4</th>\n",
       "      <td>4</td>\n",
       "      <td>2010</td>\n",
       "      <td>2.0</td>\n",
       "      <td>90.949</td>\n",
       "      <td>1</td>\n",
       "      <td>3.090846</td>\n",
       "      <td>3.157423</td>\n",
       "      <td>135.009</td>\n",
       "      <td>0</td>\n",
       "    </tr>\n",
       "  </tbody>\n",
       "</table>\n",
       "</div>"
      ],
      "text/plain": [
       "   Unnamed: 0  year  zev_pop  non_zev_pop  zev_sales  gasoline_price  \\\n",
       "0           0  2010     20.0      885.402         13        3.090846   \n",
       "1           1  2010      1.0       30.480          1        3.090846   \n",
       "2           2  2010     10.0      666.294          9        3.090846   \n",
       "3           3  2010      2.0      481.145          2        3.090846   \n",
       "4           4  2010      2.0       90.949          1        3.090846   \n",
       "\n",
       "   diesel_price  population  clusters  \n",
       "0      3.157423    1512.986         0  \n",
       "1      3.157423      37.886         0  \n",
       "2      3.157423    1052.540         0  \n",
       "3      3.157423     932.039         0  \n",
       "4      3.157423     135.009         0  "
      ]
     },
     "execution_count": 64,
     "metadata": {},
     "output_type": "execute_result"
    }
   ],
   "source": [
    "df_merged.head()"
   ]
  },
  {
   "cell_type": "code",
   "execution_count": 65,
   "id": "5c2ef9aa",
   "metadata": {},
   "outputs": [
    {
     "data": {
      "text/plain": [
       "0    599\n",
       "2     26\n",
       "1      4\n",
       "Name: clusters, dtype: int64"
      ]
     },
     "execution_count": 65,
     "metadata": {},
     "output_type": "execute_result"
    }
   ],
   "source": [
    "df_merged['clusters'].value_counts()"
   ]
  },
  {
   "cell_type": "code",
   "execution_count": 66,
   "id": "c8ae182b",
   "metadata": {
    "scrolled": false
   },
   "outputs": [
    {
     "data": {
      "image/png": "[encoded data removed]",
      "text/plain": [
       "<Figure size 864x576 with 1 Axes>"
      ]
     },
     "metadata": {
      "needs_background": "light"
     },
     "output_type": "display_data"
    }
   ],
   "source": [
    "# Plot the clusters for the \"Price per Unit\" and \"D.metro\" variables.\n",
    "\n",
    "plt.figure(figsize=(12,8))\n",
    "ax = sns.scatterplot(x=df_merged['population'], y=df_merged['zev_sales'], hue=kmeans.labels_, s=100) \n",
    "# Here, subsetting `X` for the x and y arguments to avoid using their labels. \n",
    "# `hue` takes the value of the attribute `kmeans.labels_`, which is the result of running the k-means algorithm.\n",
    "# `s` represents the size of the points you want to see in the plot.\n",
    "\n",
    "ax.grid(False) # This removes the grid from the background.\n",
    "plt.xlabel('Population') # Label x-axis.\n",
    "plt.ylabel('ZEV Sales') # Label y-axis.\n",
    "plt.show()"
   ]
  },
  {
   "cell_type": "markdown",
   "id": "9a347c80",
   "metadata": {},
   "source": [
    "Summary of the scatterplots:\n",
    "\n",
    "According to the above scatterplot, there is a big gap in the middle of the population axis due to a few huge populated counties. The dark purple dots only locte on the very right of the plot, it makes sense to interpret high ZEV sales appears in the high population counties. \n",
    "However, the middle purple and pink dots don't interpret very well. Pink dots represent low sales of ZEV, but locate on all population scale. Middle purple dots represent middle sales of ZEV, while dots locate from low population to highesat population. \n",
    "Hence, I will say the clustering analysis can not interpret the relationship between ZEV sales and population."
   ]
  },
  {
   "cell_type": "code",
   "execution_count": 74,
   "id": "f80dd90d",
   "metadata": {},
   "outputs": [
    {
     "data": {
      "image/png": "[encoded data removed]",
      "text/plain": [
       "<Figure size 864x576 with 1 Axes>"
      ]
     },
     "metadata": {
      "needs_background": "light"
     },
     "output_type": "display_data"
    }
   ],
   "source": [
    "# Plot the clusters for the \"gasoline_price\" and \"zev_sales\" variables.\n",
    "\n",
    "plt.figure(figsize=(12,8))\n",
    "ax = sns.scatterplot(x=df_merged['gasoline_price'], y=df_merged['zev_sales'], hue=kmeans.labels_, s=100)\n",
    "\n",
    "ax.grid(False) \n",
    "plt.xlabel('Gasoline Price') \n",
    "plt.ylabel('ZEV Sales') \n",
    "plt.show()"
   ]
  },
  {
   "cell_type": "markdown",
   "id": "fb589a2d",
   "metadata": {},
   "source": [
    "Summary of the scatterplots:\n",
    "\n",
    "On this scatterplot, it represents the relationship between gasoline price and ZEV sales. In previous corelation analysis, we already knew there is no significant relationship between these two variables. On this plot, we can also have the same conclusion, the clustering analysis can not interpret the dataset well."
   ]
  },
  {
   "cell_type": "code",
   "execution_count": 73,
   "id": "1041e796",
   "metadata": {},
   "outputs": [
    {
     "data": {
      "image/png": "[encoded data removed]",
      "text/plain": [
       "<Figure size 864x576 with 1 Axes>"
      ]
     },
     "metadata": {
      "needs_background": "light"
     },
     "output_type": "display_data"
    }
   ],
   "source": [
    "# Plot the clusters for the \"gasoline_price\" and \"zev_sales\" variables.\n",
    "\n",
    "plt.figure(figsize=(12,8))\n",
    "ax = sns.scatterplot(x=df_merged['year'], y=df_merged['zev_sales'], hue=kmeans.labels_, s=100)\n",
    "\n",
    "ax.grid(False) \n",
    "plt.xlabel('Year') \n",
    "plt.ylabel('ZEV Sales') \n",
    "plt.show()"
   ]
  },
  {
   "cell_type": "markdown",
   "id": "01926d7c",
   "metadata": {},
   "source": [
    "Summary of the scatterplots:\n",
    "\n",
    "Finally, this plot shows the relationship between year and ZEV sales. As the dataset inclueds data for 11 years, we can see clearly the ZEV sales increased over time. Also, high sales of ZEV appears in the most recent a few year. It matches the ZEV industry development history."
   ]
  },
  {
   "cell_type": "code",
   "execution_count": 68,
   "id": "3641994a",
   "metadata": {},
   "outputs": [],
   "source": [
    "# Change the values of \"clusters\" column to the tree color labels\n",
    "df_merged.loc[df_merged['clusters'] == 2, 'cluster'] = 'dark purple'\n",
    "df_merged.loc[df_merged['clusters'] == 1, 'cluster'] = 'purple'\n",
    "df_merged.loc[df_merged['clusters'] == 0, 'cluster'] = 'pink'"
   ]
  },
  {
   "cell_type": "code",
   "execution_count": 69,
   "id": "e60d3512",
   "metadata": {},
   "outputs": [
    {
     "data": {
      "text/html": [
       "<div>\n",
       "<style scoped>\n",
       "    .dataframe tbody tr th:only-of-type {\n",
       "        vertical-align: middle;\n",
       "    }\n",
       "\n",
       "    .dataframe tbody tr th {\n",
       "        vertical-align: top;\n",
       "    }\n",
       "\n",
       "    .dataframe thead tr th {\n",
       "        text-align: left;\n",
       "    }\n",
       "\n",
       "    .dataframe thead tr:last-of-type th {\n",
       "        text-align: right;\n",
       "    }\n",
       "</style>\n",
       "<table border=\"1\" class=\"dataframe\">\n",
       "  <thead>\n",
       "    <tr>\n",
       "      <th></th>\n",
       "      <th colspan=\"2\" halign=\"left\">zev_pop</th>\n",
       "      <th colspan=\"2\" halign=\"left\">zev_sales</th>\n",
       "      <th colspan=\"2\" halign=\"left\">non_zev_pop</th>\n",
       "      <th colspan=\"2\" halign=\"left\">population</th>\n",
       "      <th colspan=\"2\" halign=\"left\">gasoline_price</th>\n",
       "    </tr>\n",
       "    <tr>\n",
       "      <th></th>\n",
       "      <th>mean</th>\n",
       "      <th>median</th>\n",
       "      <th>mean</th>\n",
       "      <th>median</th>\n",
       "      <th>mean</th>\n",
       "      <th>median</th>\n",
       "      <th>mean</th>\n",
       "      <th>median</th>\n",
       "      <th>mean</th>\n",
       "      <th>median</th>\n",
       "    </tr>\n",
       "    <tr>\n",
       "      <th>cluster</th>\n",
       "      <th></th>\n",
       "      <th></th>\n",
       "      <th></th>\n",
       "      <th></th>\n",
       "      <th></th>\n",
       "      <th></th>\n",
       "      <th></th>\n",
       "      <th></th>\n",
       "      <th></th>\n",
       "      <th></th>\n",
       "    </tr>\n",
       "  </thead>\n",
       "  <tbody>\n",
       "    <tr>\n",
       "      <th>dark purple</th>\n",
       "      <td>53642.384615</td>\n",
       "      <td>48700.5</td>\n",
       "      <td>16165.00000</td>\n",
       "      <td>15272.5</td>\n",
       "      <td>2387.866192</td>\n",
       "      <td>2050.774</td>\n",
       "      <td>3539.601423</td>\n",
       "      <td>2813.102</td>\n",
       "      <td>3.463912</td>\n",
       "      <td>3.482736</td>\n",
       "    </tr>\n",
       "    <tr>\n",
       "      <th>pink</th>\n",
       "      <td>2232.460768</td>\n",
       "      <td>235.0</td>\n",
       "      <td>735.48581</td>\n",
       "      <td>88.0</td>\n",
       "      <td>346.294386</td>\n",
       "      <td>140.217</td>\n",
       "      <td>547.021282</td>\n",
       "      <td>192.843</td>\n",
       "      <td>3.479379</td>\n",
       "      <td>3.602135</td>\n",
       "    </tr>\n",
       "    <tr>\n",
       "      <th>purple</th>\n",
       "      <td>153054.750000</td>\n",
       "      <td>146672.5</td>\n",
       "      <td>45855.25000</td>\n",
       "      <td>38953.0</td>\n",
       "      <td>6802.879750</td>\n",
       "      <td>6833.423</td>\n",
       "      <td>9982.930500</td>\n",
       "      <td>10014.136</td>\n",
       "      <td>3.536742</td>\n",
       "      <td>3.542435</td>\n",
       "    </tr>\n",
       "  </tbody>\n",
       "</table>\n",
       "</div>"
      ],
      "text/plain": [
       "                   zev_pop              zev_sales           non_zev_pop  \\\n",
       "                      mean    median         mean   median         mean   \n",
       "cluster                                                                   \n",
       "dark purple   53642.384615   48700.5  16165.00000  15272.5  2387.866192   \n",
       "pink           2232.460768     235.0    735.48581     88.0   346.294386   \n",
       "purple       153054.750000  146672.5  45855.25000  38953.0  6802.879750   \n",
       "\n",
       "                        population            gasoline_price            \n",
       "               median         mean     median           mean    median  \n",
       "cluster                                                                 \n",
       "dark purple  2050.774  3539.601423   2813.102       3.463912  3.482736  \n",
       "pink          140.217   547.021282    192.843       3.479379  3.602135  \n",
       "purple       6833.423  9982.930500  10014.136       3.536742  3.542435  "
      ]
     },
     "execution_count": 69,
     "metadata": {},
     "output_type": "execute_result"
    }
   ],
   "source": [
    "# Check statistical information of \"cluster\" \n",
    "df_merged.groupby('cluster').agg({'zev_pop':['mean', 'median'], \n",
    "                         'zev_sales':['mean', 'median'], \n",
    "                         'non_zev_pop':['mean', 'median'],\n",
    "                        'population':['mean', 'median'],\n",
    "                          'gasoline_price':['mean', 'median']})"
   ]
  },
  {
   "cell_type": "markdown",
   "id": "1ef38c5e",
   "metadata": {},
   "source": [
    "Conclusion:\n",
    "\n",
    "According to above plots and stats information, we know the clustering analysis can't interpret the dataset perfectly. However, from the first and third scatterplots, we know that ZEV sales has positive relationship with population and time series. We can further analyze in time series."
   ]
  }
 ],
 "metadata": {
  "kernelspec": {
   "display_name": "Python 3 (ipykernel)",
   "language": "python",
   "name": "python3"
  },
  "language_info": {
   "codemirror_mode": {
    "name": "ipython",
    "version": 3
   },
   "file_extension": ".py",
   "mimetype": "text/x-python",
   "name": "python",
   "nbconvert_exporter": "python",
   "pygments_lexer": "ipython3",
   "version": "3.9.7"
  }
 },
 "nbformat": 4,
 "nbformat_minor": 5
}
