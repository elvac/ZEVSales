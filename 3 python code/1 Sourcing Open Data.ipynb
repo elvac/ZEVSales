{
 "cells": [
  {
   "cell_type": "markdown",
   "id": "eddfcd65",
   "metadata": {},
   "source": [
    "# Data Cleaning and Describing"
   ]
  },
  {
   "cell_type": "code",
   "execution_count": 2,
   "id": "4fc6b519",
   "metadata": {},
   "outputs": [],
   "source": [
    "# Import libraries\n",
    "import pandas as pd\n",
    "import numpy as np\n",
    "import os"
   ]
  },
  {
   "cell_type": "markdown",
   "id": "e87b549d",
   "metadata": {},
   "source": [
    "### Dataset: vehicle_population"
   ]
  },
  {
   "cell_type": "code",
   "execution_count": 3,
   "id": "204c7782",
   "metadata": {
    "scrolled": true
   },
   "outputs": [
    {
     "data": {
      "text/html": [
       "<div>\n",
       "<style scoped>\n",
       "    .dataframe tbody tr th:only-of-type {\n",
       "        vertical-align: middle;\n",
       "    }\n",
       "\n",
       "    .dataframe tbody tr th {\n",
       "        vertical-align: top;\n",
       "    }\n",
       "\n",
       "    .dataframe thead th {\n",
       "        text-align: right;\n",
       "    }\n",
       "</style>\n",
       "<table border=\"1\" class=\"dataframe\">\n",
       "  <thead>\n",
       "    <tr style=\"text-align: right;\">\n",
       "      <th></th>\n",
       "      <th>Unnamed: 0</th>\n",
       "      <th>year</th>\n",
       "      <th>county</th>\n",
       "      <th>fuel_type</th>\n",
       "      <th>make</th>\n",
       "      <th>model</th>\n",
       "      <th>num_vehicle</th>\n",
       "    </tr>\n",
       "  </thead>\n",
       "  <tbody>\n",
       "    <tr>\n",
       "      <th>0</th>\n",
       "      <td>0</td>\n",
       "      <td>2010</td>\n",
       "      <td>Alameda</td>\n",
       "      <td>Diesel</td>\n",
       "      <td>NaN</td>\n",
       "      <td>NaN</td>\n",
       "      <td>10939</td>\n",
       "    </tr>\n",
       "    <tr>\n",
       "      <th>1</th>\n",
       "      <td>1</td>\n",
       "      <td>2010</td>\n",
       "      <td>Alameda</td>\n",
       "      <td>Electric</td>\n",
       "      <td>Ford</td>\n",
       "      <td>Ranger</td>\n",
       "      <td>3</td>\n",
       "    </tr>\n",
       "    <tr>\n",
       "      <th>2</th>\n",
       "      <td>2</td>\n",
       "      <td>2010</td>\n",
       "      <td>Alameda</td>\n",
       "      <td>Electric</td>\n",
       "      <td>Tesla</td>\n",
       "      <td>Roadster</td>\n",
       "      <td>17</td>\n",
       "    </tr>\n",
       "    <tr>\n",
       "      <th>3</th>\n",
       "      <td>3</td>\n",
       "      <td>2010</td>\n",
       "      <td>Alameda</td>\n",
       "      <td>Flex Fuel</td>\n",
       "      <td>NaN</td>\n",
       "      <td>NaN</td>\n",
       "      <td>10974</td>\n",
       "    </tr>\n",
       "    <tr>\n",
       "      <th>4</th>\n",
       "      <td>4</td>\n",
       "      <td>2010</td>\n",
       "      <td>Alameda</td>\n",
       "      <td>Gasoline</td>\n",
       "      <td>NaN</td>\n",
       "      <td>NaN</td>\n",
       "      <td>840577</td>\n",
       "    </tr>\n",
       "    <tr>\n",
       "      <th>5</th>\n",
       "      <td>5</td>\n",
       "      <td>2010</td>\n",
       "      <td>Alameda</td>\n",
       "      <td>Gasoline Hybrid</td>\n",
       "      <td>NaN</td>\n",
       "      <td>NaN</td>\n",
       "      <td>22720</td>\n",
       "    </tr>\n",
       "    <tr>\n",
       "      <th>6</th>\n",
       "      <td>6</td>\n",
       "      <td>2010</td>\n",
       "      <td>Alameda</td>\n",
       "      <td>Natural Gas</td>\n",
       "      <td>NaN</td>\n",
       "      <td>NaN</td>\n",
       "      <td>173</td>\n",
       "    </tr>\n",
       "    <tr>\n",
       "      <th>7</th>\n",
       "      <td>7</td>\n",
       "      <td>2010</td>\n",
       "      <td>Alameda</td>\n",
       "      <td>Propane</td>\n",
       "      <td>NaN</td>\n",
       "      <td>NaN</td>\n",
       "      <td>19</td>\n",
       "    </tr>\n",
       "    <tr>\n",
       "      <th>8</th>\n",
       "      <td>8</td>\n",
       "      <td>2010</td>\n",
       "      <td>Alpine</td>\n",
       "      <td>Diesel</td>\n",
       "      <td>NaN</td>\n",
       "      <td>NaN</td>\n",
       "      <td>73</td>\n",
       "    </tr>\n",
       "    <tr>\n",
       "      <th>9</th>\n",
       "      <td>9</td>\n",
       "      <td>2010</td>\n",
       "      <td>Alpine</td>\n",
       "      <td>Flex Fuel</td>\n",
       "      <td>NaN</td>\n",
       "      <td>NaN</td>\n",
       "      <td>16</td>\n",
       "    </tr>\n",
       "  </tbody>\n",
       "</table>\n",
       "</div>"
      ],
      "text/plain": [
       "   Unnamed: 0  year   county        fuel_type   make     model  num_vehicle\n",
       "0           0  2010  Alameda           Diesel    NaN       NaN        10939\n",
       "1           1  2010  Alameda         Electric   Ford    Ranger            3\n",
       "2           2  2010  Alameda         Electric  Tesla  Roadster           17\n",
       "3           3  2010  Alameda        Flex Fuel    NaN       NaN        10974\n",
       "4           4  2010  Alameda         Gasoline    NaN       NaN       840577\n",
       "5           5  2010  Alameda  Gasoline Hybrid    NaN       NaN        22720\n",
       "6           6  2010  Alameda      Natural Gas    NaN       NaN          173\n",
       "7           7  2010  Alameda          Propane    NaN       NaN           19\n",
       "8           8  2010   Alpine           Diesel    NaN       NaN           73\n",
       "9           9  2010   Alpine        Flex Fuel    NaN       NaN           16"
      ]
     },
     "execution_count": 3,
     "metadata": {},
     "output_type": "execute_result"
    }
   ],
   "source": [
    "# Import vehicle_population.csv\n",
    "path=r'/Users/elvachen/Documents/DA Learning/Immersion-Exercise/6/2original data'\n",
    "df_vp=pd.read_csv(os.path.join(path,'vehicle_population.csv'),index_col = False)\n",
    "df_vp.head(10)"
   ]
  },
  {
   "cell_type": "code",
   "execution_count": 10,
   "id": "9a51faef",
   "metadata": {},
   "outputs": [
    {
     "data": {
      "text/plain": [
       "2021    4087\n",
       "2020    3295\n",
       "2019    2907\n",
       "2018    2596\n",
       "2017    2242\n",
       "2016    1701\n",
       "2015    1384\n",
       "2014    1181\n",
       "2013     941\n",
       "2012     669\n",
       "2011     489\n",
       "2010     395\n",
       "Name: year, dtype: int64"
      ]
     },
     "execution_count": 10,
     "metadata": {},
     "output_type": "execute_result"
    }
   ],
   "source": [
    "# Check missing values\n",
    "df_vp['year'].value_counts(dropna = False) "
   ]
  },
  {
   "cell_type": "code",
   "execution_count": 11,
   "id": "40e96913",
   "metadata": {},
   "outputs": [
    {
     "data": {
      "text/plain": [
       "Los Angeles        636\n",
       "Orange             592\n",
       "Santa Clara        577\n",
       "San Mateo          551\n",
       "San Diego          546\n",
       "Alameda            546\n",
       "Contra Costa       538\n",
       "San Francisco      537\n",
       "Sacramento         535\n",
       "Ventura            533\n",
       "Riverside          529\n",
       "San Bernardino     520\n",
       "Sonoma             519\n",
       "Santa Barbara      518\n",
       "Marin              515\n",
       "Out Of State       515\n",
       "Placer             506\n",
       "Santa Cruz         483\n",
       "Kern               480\n",
       "Yolo               479\n",
       "Solano             475\n",
       "Fresno             474\n",
       "Monterey           473\n",
       "San Luis Obispo    471\n",
       "San Joaquin        467\n",
       "Napa               465\n",
       "El Dorado          453\n",
       "Stanislaus         431\n",
       "Tulare             400\n",
       "Humboldt           370\n",
       "Mendocino          363\n",
       "Nevada             355\n",
       "Butte              349\n",
       "Merced             340\n",
       "San Benito         340\n",
       "Shasta             337\n",
       "Madera             329\n",
       "Imperial           297\n",
       "Calaveras          295\n",
       "Kings              282\n",
       "Lake               281\n",
       "Tuolumne           277\n",
       "Sutter             276\n",
       "Yuba               271\n",
       "Amador             269\n",
       "Siskiyou           218\n",
       "Tehama             203\n",
       "Del Norte          183\n",
       "Mariposa           179\n",
       "Inyo               173\n",
       "Plumas             167\n",
       "Glenn              157\n",
       "Mono               151\n",
       "Trinity            145\n",
       "Colusa             139\n",
       "Lassen             131\n",
       "Alpine              93\n",
       "Modoc               78\n",
       "Sierra              75\n",
       "Name: county, dtype: int64"
      ]
     },
     "execution_count": 11,
     "metadata": {},
     "output_type": "execute_result"
    }
   ],
   "source": [
    "# Check missing values\n",
    "df_vp['county'].value_counts(dropna = False) "
   ]
  },
  {
   "cell_type": "code",
   "execution_count": 12,
   "id": "e0633bca",
   "metadata": {},
   "outputs": [
    {
     "data": {
      "text/plain": [
       "PHEV               9621\n",
       "Electric           7801\n",
       "Diesel              708\n",
       "Flex Fuel           708\n",
       "Gasoline            708\n",
       "Gasoline Hybrid     708\n",
       "Natural Gas         601\n",
       "Propane             594\n",
       "Hydrogen            346\n",
       "Hydrogen             92\n",
       "Name: fuel_type, dtype: int64"
      ]
     },
     "execution_count": 12,
     "metadata": {},
     "output_type": "execute_result"
    }
   ],
   "source": [
    "# Check missing values\n",
    "df_vp['fuel_type'].value_counts(dropna = False) "
   ]
  },
  {
   "cell_type": "code",
   "execution_count": 13,
   "id": "79f5ec5c",
   "metadata": {},
   "outputs": [
    {
     "data": {
      "text/plain": [
       "NaN               3689\n",
       "BMW               1871\n",
       "Ford              1720\n",
       "Tesla             1532\n",
       "Toyota            1479\n",
       "Chevrolet         1315\n",
       "Honda             1126\n",
       "Hyundai            927\n",
       "Kia                828\n",
       "Mercedes- Benz     757\n",
       "Volvo              673\n",
       "Porsche            638\n",
       "Nissan             571\n",
       "Audi               557\n",
       "Mitsubishi         470\n",
       "Smart              413\n",
       "FIAT               398\n",
       "Cadillac           383\n",
       "Volkswagen         359\n",
       "                   338\n",
       "Fisker             271\n",
       "MINI               248\n",
       "Chrysler           247\n",
       "Mercedes-Benz      192\n",
       "Subaru             154\n",
       "Land Rover         136\n",
       "Jaguar             124\n",
       "Lincoln             88\n",
       "McLaren             64\n",
       "Karma               58\n",
       "Polestar            53\n",
       "Jeep                50\n",
       "Mazda               21\n",
       "Rivian              20\n",
       "Bentley             17\n",
       "Azure Dynamics      17\n",
       "Think Global        16\n",
       "Coda                15\n",
       "Scion               14\n",
       "Ferrari             14\n",
       "Lucid               13\n",
       "Kewet                5\n",
       "GMC                  4\n",
       "Kubvan               2\n",
       "Name: make, dtype: int64"
      ]
     },
     "execution_count": 13,
     "metadata": {},
     "output_type": "execute_result"
    }
   ],
   "source": [
    "# Check missing values\n",
    "df_vp['make'].value_counts(dropna = False) "
   ]
  },
  {
   "cell_type": "code",
   "execution_count": 14,
   "id": "91dbcce9",
   "metadata": {},
   "outputs": [
    {
     "data": {
      "text/plain": [
       "NaN                     3689\n",
       "Volt                     608\n",
       "LEAF                     571\n",
       "Prius Plug-in Hybrid     549\n",
       "Model S                  493\n",
       "                        ... \n",
       "Kewet                      5\n",
       "Ev1                        4\n",
       "Model 70                   2\n",
       "C40                        1\n",
       "Fcx                        1\n",
       "Name: model, Length: 119, dtype: int64"
      ]
     },
     "execution_count": 14,
     "metadata": {},
     "output_type": "execute_result"
    }
   ],
   "source": [
    "# Check missing values\n",
    "df_vp['model'].value_counts(dropna = False) "
   ]
  },
  {
   "cell_type": "code",
   "execution_count": 15,
   "id": "c5aba17f",
   "metadata": {},
   "outputs": [
    {
     "data": {
      "text/plain": [
       "1        3063\n",
       "2        1608\n",
       "3        1011\n",
       "4         789\n",
       "5         690\n",
       "         ... \n",
       "3977        1\n",
       "86222       1\n",
       "5214        1\n",
       "2117        1\n",
       "50112       1\n",
       "Name: num_vehicle, Length: 3668, dtype: int64"
      ]
     },
     "execution_count": 15,
     "metadata": {},
     "output_type": "execute_result"
    }
   ],
   "source": [
    "# Check missing values\n",
    "df_vp['num_vehicle'].value_counts(dropna = False) "
   ]
  },
  {
   "cell_type": "code",
   "execution_count": 24,
   "id": "06936471",
   "metadata": {},
   "outputs": [
    {
     "data": {
      "text/plain": [
       "year            int64\n",
       "county         object\n",
       "fuel_type      object\n",
       "make           object\n",
       "model          object\n",
       "num_vehicle     int64\n",
       "dtype: object"
      ]
     },
     "execution_count": 24,
     "metadata": {},
     "output_type": "execute_result"
    }
   ],
   "source": [
    "# Check data types of each columns\n",
    "df_vp.dtypes"
   ]
  },
  {
   "cell_type": "code",
   "execution_count": 25,
   "id": "4f726e0f",
   "metadata": {},
   "outputs": [
    {
     "data": {
      "text/plain": [
       "count    2.188700e+04\n",
       "mean     1.410416e+04\n",
       "std      1.649749e+05\n",
       "min      1.000000e+00\n",
       "25%      3.000000e+00\n",
       "50%      1.800000e+01\n",
       "75%      1.660000e+02\n",
       "max      6.287010e+06\n",
       "Name: num_vehicle, dtype: float64"
      ]
     },
     "execution_count": 25,
     "metadata": {},
     "output_type": "execute_result"
    }
   ],
   "source": [
    "# Describe the column 'num_vehicle'\n",
    "df_vp['num_vehicle'].describe()"
   ]
  },
  {
   "cell_type": "code",
   "execution_count": 32,
   "id": "1a18d5a0",
   "metadata": {},
   "outputs": [
    {
     "data": {
      "text/plain": [
       "NaN               3689\n",
       "BMW               1871\n",
       "Ford              1720\n",
       "Tesla             1532\n",
       "Toyota            1479\n",
       "Chevrolet         1315\n",
       "Honda             1126\n",
       "Hyundai            927\n",
       "Kia                828\n",
       "Mercedes- Benz     757\n",
       "Volvo              673\n",
       "Porsche            638\n",
       "Nissan             571\n",
       "Audi               557\n",
       "Mitsubishi         470\n",
       "Smart              413\n",
       "FIAT               398\n",
       "Cadillac           383\n",
       "Volkswagen         359\n",
       "                   338\n",
       "Fisker             271\n",
       "MINI               248\n",
       "Chrysler           247\n",
       "Mercedes-Benz      192\n",
       "Subaru             154\n",
       "Land Rover         136\n",
       "Jaguar             124\n",
       "Lincoln             88\n",
       "McLaren             64\n",
       "Karma               58\n",
       "Polestar            53\n",
       "Jeep                50\n",
       "Mazda               21\n",
       "Rivian              20\n",
       "Bentley             17\n",
       "Azure Dynamics      17\n",
       "Think Global        16\n",
       "Coda                15\n",
       "Scion               14\n",
       "Ferrari             14\n",
       "Lucid               13\n",
       "Kewet                5\n",
       "GMC                  4\n",
       "Kubvan               2\n",
       "Name: make, dtype: int64"
      ]
     },
     "execution_count": 32,
     "metadata": {},
     "output_type": "execute_result"
    }
   ],
   "source": [
    "df_vp['make'].value_counts(dropna = False)"
   ]
  },
  {
   "cell_type": "markdown",
   "id": "59544159",
   "metadata": {},
   "source": [
    "### Dataset: new_zev_sales"
   ]
  },
  {
   "cell_type": "code",
   "execution_count": 37,
   "id": "e96ef2df",
   "metadata": {},
   "outputs": [
    {
     "data": {
      "text/html": [
       "<div>\n",
       "<style scoped>\n",
       "    .dataframe tbody tr th:only-of-type {\n",
       "        vertical-align: middle;\n",
       "    }\n",
       "\n",
       "    .dataframe tbody tr th {\n",
       "        vertical-align: top;\n",
       "    }\n",
       "\n",
       "    .dataframe thead th {\n",
       "        text-align: right;\n",
       "    }\n",
       "</style>\n",
       "<table border=\"1\" class=\"dataframe\">\n",
       "  <thead>\n",
       "    <tr style=\"text-align: right;\">\n",
       "      <th></th>\n",
       "      <th>year</th>\n",
       "      <th>county</th>\n",
       "      <th>fuel_type</th>\n",
       "      <th>make</th>\n",
       "      <th>model</th>\n",
       "      <th>num_vehicle</th>\n",
       "    </tr>\n",
       "  </thead>\n",
       "  <tbody>\n",
       "    <tr>\n",
       "      <th>0</th>\n",
       "      <td>1998</td>\n",
       "      <td>Los Angeles</td>\n",
       "      <td>Electric</td>\n",
       "      <td>FORD</td>\n",
       "      <td>RANGER</td>\n",
       "      <td>1</td>\n",
       "    </tr>\n",
       "    <tr>\n",
       "      <th>1</th>\n",
       "      <td>1998</td>\n",
       "      <td>Orange</td>\n",
       "      <td>Electric</td>\n",
       "      <td>FORD</td>\n",
       "      <td>RANGER</td>\n",
       "      <td>1</td>\n",
       "    </tr>\n",
       "    <tr>\n",
       "      <th>2</th>\n",
       "      <td>1998</td>\n",
       "      <td>San Bernardino</td>\n",
       "      <td>Electric</td>\n",
       "      <td>FORD</td>\n",
       "      <td>RANGER</td>\n",
       "      <td>2</td>\n",
       "    </tr>\n",
       "    <tr>\n",
       "      <th>3</th>\n",
       "      <td>1998</td>\n",
       "      <td>San Mateo</td>\n",
       "      <td>Electric</td>\n",
       "      <td>FORD</td>\n",
       "      <td>RANGER</td>\n",
       "      <td>1</td>\n",
       "    </tr>\n",
       "    <tr>\n",
       "      <th>4</th>\n",
       "      <td>1999</td>\n",
       "      <td>Santa Barbara</td>\n",
       "      <td>Electric</td>\n",
       "      <td>FORD</td>\n",
       "      <td>RANGER</td>\n",
       "      <td>1</td>\n",
       "    </tr>\n",
       "    <tr>\n",
       "      <th>5</th>\n",
       "      <td>2000</td>\n",
       "      <td>Out Of State</td>\n",
       "      <td>Electric</td>\n",
       "      <td>FORD</td>\n",
       "      <td>RANGER</td>\n",
       "      <td>2</td>\n",
       "    </tr>\n",
       "    <tr>\n",
       "      <th>6</th>\n",
       "      <td>2001</td>\n",
       "      <td>Los Angeles</td>\n",
       "      <td>Electric</td>\n",
       "      <td>FORD</td>\n",
       "      <td>RANGER</td>\n",
       "      <td>1</td>\n",
       "    </tr>\n",
       "    <tr>\n",
       "      <th>7</th>\n",
       "      <td>2002</td>\n",
       "      <td>Tulare</td>\n",
       "      <td>Electric</td>\n",
       "      <td>FORD</td>\n",
       "      <td>RANGER</td>\n",
       "      <td>1</td>\n",
       "    </tr>\n",
       "    <tr>\n",
       "      <th>8</th>\n",
       "      <td>2002</td>\n",
       "      <td>Ventura</td>\n",
       "      <td>Electric</td>\n",
       "      <td>FORD</td>\n",
       "      <td>RANGER</td>\n",
       "      <td>2</td>\n",
       "    </tr>\n",
       "    <tr>\n",
       "      <th>9</th>\n",
       "      <td>2003</td>\n",
       "      <td>Placer</td>\n",
       "      <td>Electric</td>\n",
       "      <td>FORD</td>\n",
       "      <td>RANGER</td>\n",
       "      <td>2</td>\n",
       "    </tr>\n",
       "  </tbody>\n",
       "</table>\n",
       "</div>"
      ],
      "text/plain": [
       "   year          county fuel_type  make   model  num_vehicle\n",
       "0  1998     Los Angeles  Electric  FORD  RANGER            1\n",
       "1  1998          Orange  Electric  FORD  RANGER            1\n",
       "2  1998  San Bernardino  Electric  FORD  RANGER            2\n",
       "3  1998       San Mateo  Electric  FORD  RANGER            1\n",
       "4  1999   Santa Barbara  Electric  FORD  RANGER            1\n",
       "5  2000    Out Of State  Electric  FORD  RANGER            2\n",
       "6  2001     Los Angeles  Electric  FORD  RANGER            1\n",
       "7  2002          Tulare  Electric  FORD  RANGER            1\n",
       "8  2002         Ventura  Electric  FORD  RANGER            2\n",
       "9  2003          Placer  Electric  FORD  RANGER            2"
      ]
     },
     "execution_count": 37,
     "metadata": {},
     "output_type": "execute_result"
    }
   ],
   "source": [
    "# Import new_zev_sales.csv\n",
    "path=r'/Users/elvachen/Documents/DA Learning/Immersion-Exercise/6/2original data'\n",
    "df_zev=pd.read_csv(os.path.join(path,'new_zev_sales.csv'),index_col = False)\n",
    "df_zev.head(10)"
   ]
  },
  {
   "cell_type": "code",
   "execution_count": 38,
   "id": "5fb4ba15",
   "metadata": {},
   "outputs": [
    {
     "data": {
      "text/plain": [
       "2021    2436\n",
       "2022    1936\n",
       "2020    1813\n",
       "2019    1613\n",
       "2018    1547\n",
       "2017    1367\n",
       "2016    1023\n",
       "2015     843\n",
       "2014     766\n",
       "2013     520\n",
       "2012     332\n",
       "2011     122\n",
       "2010      47\n",
       "2009      22\n",
       "2005       5\n",
       "1998       4\n",
       "2003       3\n",
       "2002       2\n",
       "1999       1\n",
       "2006       1\n",
       "2004       1\n",
       "2001       1\n",
       "2000       1\n",
       "Name: year, dtype: int64"
      ]
     },
     "execution_count": 38,
     "metadata": {},
     "output_type": "execute_result"
    }
   ],
   "source": [
    "# Check missing values\n",
    "df_zev['year'].value_counts(dropna = False)"
   ]
  },
  {
   "cell_type": "code",
   "execution_count": 39,
   "id": "10e635c8",
   "metadata": {},
   "outputs": [
    {
     "data": {
      "text/plain": [
       "Los Angeles        538\n",
       "Orange             513\n",
       "San Diego          479\n",
       "Santa Clara        467\n",
       "Alameda            458\n",
       "Contra Costa       449\n",
       "San Mateo          446\n",
       "Riverside          444\n",
       "San Francisco      437\n",
       "Ventura            427\n",
       "San Bernardino     426\n",
       "Sacramento         412\n",
       "Marin              400\n",
       "Sonoma             389\n",
       "Santa Barbara      376\n",
       "Out Of State       363\n",
       "Placer             360\n",
       "Solano             348\n",
       "Fresno             348\n",
       "Santa Cruz         343\n",
       "San Joaquin        340\n",
       "Monterey           331\n",
       "San Luis Obispo    329\n",
       "Kern               327\n",
       "Yolo               325\n",
       "El Dorado          319\n",
       "Napa               302\n",
       "Stanislaus         281\n",
       "Tulare             235\n",
       "Nevada             220\n",
       "Humboldt           214\n",
       "Butte              211\n",
       "Merced             207\n",
       "Mendocino          203\n",
       "Shasta             183\n",
       "San Benito         178\n",
       "Madera             167\n",
       "Imperial           143\n",
       "Calaveras          140\n",
       "Lake               139\n",
       "Sutter             134\n",
       "Kings              130\n",
       "Yuba               116\n",
       "Tuolumne           115\n",
       "Amador             106\n",
       "Tehama              88\n",
       "Mariposa            65\n",
       "Inyo                58\n",
       "Siskiyou            57\n",
       "Glenn               53\n",
       "Del Norte           52\n",
       "Mono                50\n",
       "Plumas              50\n",
       "Trinity             35\n",
       "Colusa              30\n",
       "Lassen              21\n",
       "Alpine              19\n",
       "Sierra               6\n",
       "Modoc                4\n",
       "Name: county, dtype: int64"
      ]
     },
     "execution_count": 39,
     "metadata": {},
     "output_type": "execute_result"
    }
   ],
   "source": [
    "# Check missing values\n",
    "df_zev['county'].value_counts(dropna = False)"
   ]
  },
  {
   "cell_type": "code",
   "execution_count": 40,
   "id": "14ca689d",
   "metadata": {},
   "outputs": [
    {
     "data": {
      "text/plain": [
       "BMW              1692\n",
       "TESLA            1176\n",
       "Toyota           1093\n",
       "FORD             1090\n",
       "CHEVROLET        1025\n",
       "Hyundai           964\n",
       "Kia               752\n",
       "Volvo             715\n",
       "HONDA             629\n",
       "Audi              572\n",
       "Mercedes-Benz     555\n",
       "Porsche           501\n",
       "NISSAN            485\n",
       "Volkswagen        367\n",
       "FIAT              282\n",
       "Chrysler          247\n",
       "Mitsubishi        240\n",
       "MINI              229\n",
       "Smart             222\n",
       "Tesla             188\n",
       "Subaru            169\n",
       "Land Rover        128\n",
       "Cadillac          122\n",
       "Jaguar            122\n",
       "Lincoln           112\n",
       "Ford              106\n",
       "Jeep               93\n",
       "Chevrolet          84\n",
       "Polestar           83\n",
       "Nissan             45\n",
       "Honda              45\n",
       "Mazda              42\n",
       "Rivian             42\n",
       "Fisker             38\n",
       "Lucid              34\n",
       "Karma              33\n",
       "Lexus              28\n",
       "Ferrari            25\n",
       "Bentley            12\n",
       "McLaren            12\n",
       "GMC                 5\n",
       "Scion               2\n",
       "Name: make, dtype: int64"
      ]
     },
     "execution_count": 40,
     "metadata": {},
     "output_type": "execute_result"
    }
   ],
   "source": [
    "# Check missing values\n",
    "df_zev['make'].value_counts(dropna = False)"
   ]
  },
  {
   "cell_type": "code",
   "execution_count": 41,
   "id": "78eec8ed",
   "metadata": {},
   "outputs": [
    {
     "data": {
      "text/plain": [
       "VOLT                  519\n",
       "Model S               507\n",
       "LEAF                  485\n",
       "Fusion Energi         410\n",
       "Prius Prime           356\n",
       "                     ... \n",
       "SF90 Spider             4\n",
       "FCX                     3\n",
       "iQ EV                   2\n",
       "e-tron S                1\n",
       "e-tron S Sportback      1\n",
       "Name: model, Length: 120, dtype: int64"
      ]
     },
     "execution_count": 41,
     "metadata": {},
     "output_type": "execute_result"
    }
   ],
   "source": [
    "# Check missing values\n",
    "df_zev['model'].value_counts(dropna = False)"
   ]
  },
  {
   "cell_type": "code",
   "execution_count": 42,
   "id": "0d4c91b5",
   "metadata": {},
   "outputs": [
    {
     "data": {
      "text/plain": [
       "1       3031\n",
       "2       1499\n",
       "3        935\n",
       "4        731\n",
       "5        601\n",
       "        ... \n",
       "1462       1\n",
       "1412       1\n",
       "629        1\n",
       "655        1\n",
       "484        1\n",
       "Name: num_vehicle, Length: 814, dtype: int64"
      ]
     },
     "execution_count": 42,
     "metadata": {},
     "output_type": "execute_result"
    }
   ],
   "source": [
    "# Check missing values\n",
    "df_zev['num_vehicle'].value_counts(dropna = False)"
   ]
  },
  {
   "cell_type": "code",
   "execution_count": 60,
   "id": "39010027",
   "metadata": {},
   "outputs": [
    {
     "data": {
      "text/plain": [
       "814"
      ]
     },
     "execution_count": 60,
     "metadata": {},
     "output_type": "execute_result"
    }
   ],
   "source": [
    "# Check the number of distinct values in each column\n",
    "df_zev['num_vehicle'].nunique()"
   ]
  },
  {
   "cell_type": "code",
   "execution_count": 66,
   "id": "d51df993",
   "metadata": {},
   "outputs": [
    {
     "data": {
      "text/plain": [
       "count    14406.000000\n",
       "mean        78.813480\n",
       "std        423.480453\n",
       "min          1.000000\n",
       "25%          2.000000\n",
       "50%          6.000000\n",
       "75%         31.000000\n",
       "max      17977.000000\n",
       "Name: num_vehicle, dtype: float64"
      ]
     },
     "execution_count": 66,
     "metadata": {},
     "output_type": "execute_result"
    }
   ],
   "source": [
    "# Describe the column 'num_vehicle'\n",
    "df_zev['num_vehicle'].describe()"
   ]
  },
  {
   "cell_type": "markdown",
   "id": "17d4d485",
   "metadata": {},
   "source": [
    "### Dataset: ldv_sales_shares"
   ]
  },
  {
   "cell_type": "code",
   "execution_count": 67,
   "id": "2dd9e058",
   "metadata": {},
   "outputs": [
    {
     "data": {
      "text/html": [
       "<div>\n",
       "<style scoped>\n",
       "    .dataframe tbody tr th:only-of-type {\n",
       "        vertical-align: middle;\n",
       "    }\n",
       "\n",
       "    .dataframe tbody tr th {\n",
       "        vertical-align: top;\n",
       "    }\n",
       "\n",
       "    .dataframe thead th {\n",
       "        text-align: right;\n",
       "    }\n",
       "</style>\n",
       "<table border=\"1\" class=\"dataframe\">\n",
       "  <thead>\n",
       "    <tr style=\"text-align: right;\">\n",
       "      <th></th>\n",
       "      <th>period</th>\n",
       "      <th>county</th>\n",
       "      <th>sales</th>\n",
       "      <th>sales_share</th>\n",
       "    </tr>\n",
       "  </thead>\n",
       "  <tbody>\n",
       "    <tr>\n",
       "      <th>0</th>\n",
       "      <td>2021Q1tQ3</td>\n",
       "      <td>Alameda</td>\n",
       "      <td>54557</td>\n",
       "      <td>21%</td>\n",
       "    </tr>\n",
       "    <tr>\n",
       "      <th>1</th>\n",
       "      <td>2021Q1tQ3</td>\n",
       "      <td>Alpine</td>\n",
       "      <td>63</td>\n",
       "      <td>14%</td>\n",
       "    </tr>\n",
       "    <tr>\n",
       "      <th>2</th>\n",
       "      <td>2021Q1tQ3</td>\n",
       "      <td>Amador</td>\n",
       "      <td>994</td>\n",
       "      <td>5%</td>\n",
       "    </tr>\n",
       "    <tr>\n",
       "      <th>3</th>\n",
       "      <td>2021Q1tQ3</td>\n",
       "      <td>Butte</td>\n",
       "      <td>5018</td>\n",
       "      <td>6%</td>\n",
       "    </tr>\n",
       "    <tr>\n",
       "      <th>4</th>\n",
       "      <td>2021Q1tQ3</td>\n",
       "      <td>Calaveras</td>\n",
       "      <td>1398</td>\n",
       "      <td>5%</td>\n",
       "    </tr>\n",
       "    <tr>\n",
       "      <th>5</th>\n",
       "      <td>2021Q1tQ3</td>\n",
       "      <td>Colusa</td>\n",
       "      <td>610</td>\n",
       "      <td>2%</td>\n",
       "    </tr>\n",
       "    <tr>\n",
       "      <th>6</th>\n",
       "      <td>2021Q1tQ3</td>\n",
       "      <td>Contra Costa</td>\n",
       "      <td>42494</td>\n",
       "      <td>17%</td>\n",
       "    </tr>\n",
       "    <tr>\n",
       "      <th>7</th>\n",
       "      <td>2021Q1tQ3</td>\n",
       "      <td>Del Norte</td>\n",
       "      <td>434</td>\n",
       "      <td>2%</td>\n",
       "    </tr>\n",
       "    <tr>\n",
       "      <th>8</th>\n",
       "      <td>2021Q1tQ3</td>\n",
       "      <td>El Dorado</td>\n",
       "      <td>6487</td>\n",
       "      <td>11%</td>\n",
       "    </tr>\n",
       "    <tr>\n",
       "      <th>9</th>\n",
       "      <td>2021Q1tQ3</td>\n",
       "      <td>Fresno</td>\n",
       "      <td>28622</td>\n",
       "      <td>6%</td>\n",
       "    </tr>\n",
       "  </tbody>\n",
       "</table>\n",
       "</div>"
      ],
      "text/plain": [
       "      period        county  sales sales_share\n",
       "0  2021Q1tQ3       Alameda  54557         21%\n",
       "1  2021Q1tQ3        Alpine     63         14%\n",
       "2  2021Q1tQ3        Amador    994          5%\n",
       "3  2021Q1tQ3         Butte   5018          6%\n",
       "4  2021Q1tQ3     Calaveras   1398          5%\n",
       "5  2021Q1tQ3        Colusa    610          2%\n",
       "6  2021Q1tQ3  Contra Costa  42494         17%\n",
       "7  2021Q1tQ3     Del Norte    434          2%\n",
       "8  2021Q1tQ3     El Dorado   6487         11%\n",
       "9  2021Q1tQ3        Fresno  28622          6%"
      ]
     },
     "execution_count": 67,
     "metadata": {},
     "output_type": "execute_result"
    }
   ],
   "source": [
    "# Import ldv_sales_shares.csv\n",
    "path=r'/Users/elvachen/Documents/DA Learning/Immersion-Exercise/6/2original data'\n",
    "df_ldv=pd.read_csv(os.path.join(path,'ldv_sales_shares.csv'),index_col = False)\n",
    "df_ldv.head(10)"
   ]
  },
  {
   "cell_type": "code",
   "execution_count": 68,
   "id": "19732eab",
   "metadata": {},
   "outputs": [
    {
     "data": {
      "text/plain": [
       "2021Q1tQ3    59\n",
       "2022Q1       59\n",
       "Name: period, dtype: int64"
      ]
     },
     "execution_count": 68,
     "metadata": {},
     "output_type": "execute_result"
    }
   ],
   "source": [
    "# Check missing values\n",
    "df_ldv['period'].value_counts(dropna = False)"
   ]
  },
  {
   "cell_type": "code",
   "execution_count": 69,
   "id": "3dd12b4a",
   "metadata": {},
   "outputs": [
    {
     "data": {
      "text/plain": [
       "Alameda            2\n",
       "Santa Cruz         2\n",
       "Plumas             2\n",
       "Riverside          2\n",
       "Sacramento         2\n",
       "San Benito         2\n",
       "San Bernardino     2\n",
       "San Diego          2\n",
       "San Francisco      2\n",
       "San Joaquin        2\n",
       "San Luis Obispo    2\n",
       "San Mateo          2\n",
       "Santa Barbara      2\n",
       "Santa Clara        2\n",
       "Shasta             2\n",
       "Out Of State       2\n",
       "Sierra             2\n",
       "Siskiyou           2\n",
       "Solano             2\n",
       "Sonoma             2\n",
       "Stanislaus         2\n",
       "Sutter             2\n",
       "Tehama             2\n",
       "Trinity            2\n",
       "Tulare             2\n",
       "Tuolumne           2\n",
       "Ventura            2\n",
       "Yolo               2\n",
       "Placer             2\n",
       "Orange             2\n",
       "Alpine             2\n",
       "Kern               2\n",
       "Amador             2\n",
       "Butte              2\n",
       "Calaveras          2\n",
       "Colusa             2\n",
       "Contra Costa       2\n",
       "Del Norte          2\n",
       "El Dorado          2\n",
       "Fresno             2\n",
       "Glenn              2\n",
       "Humboldt           2\n",
       "Imperial           2\n",
       "Inyo               2\n",
       "Kings              2\n",
       "Nevada             2\n",
       "Lake               2\n",
       "Lassen             2\n",
       "Los Angeles        2\n",
       "Madera             2\n",
       "Marin              2\n",
       "Mariposa           2\n",
       "Mendocino          2\n",
       "Merced             2\n",
       "Modoc              2\n",
       "Mono               2\n",
       "Monterey           2\n",
       "Napa               2\n",
       "Yuba               2\n",
       "Name: county, dtype: int64"
      ]
     },
     "execution_count": 69,
     "metadata": {},
     "output_type": "execute_result"
    }
   ],
   "source": [
    "# Check missing values\n",
    "df_ldv['county'].value_counts(dropna = False)"
   ]
  },
  {
   "cell_type": "code",
   "execution_count": 74,
   "id": "c978b023",
   "metadata": {},
   "outputs": [
    {
     "data": {
      "text/plain": [
       "5%       9\n",
       "2%       6\n",
       "6%       5\n",
       "4%       4\n",
       "11%      4\n",
       "        ..\n",
       "3.51%    1\n",
       "7.60%    1\n",
       "6.69%    1\n",
       "5.31%    1\n",
       "7.42%    1\n",
       "Name: sales_share, Length: 77, dtype: int64"
      ]
     },
     "execution_count": 74,
     "metadata": {},
     "output_type": "execute_result"
    }
   ],
   "source": [
    "# Check missing values\n",
    "df_ldv['sales_share'].value_counts(dropna = False)"
   ]
  },
  {
   "cell_type": "code",
   "execution_count": 75,
   "id": "b157f421",
   "metadata": {},
   "outputs": [
    {
     "data": {
      "text/plain": [
       "period         object\n",
       "county         object\n",
       "sales           int64\n",
       "sales_share    object\n",
       "dtype: object"
      ]
     },
     "execution_count": 75,
     "metadata": {},
     "output_type": "execute_result"
    }
   ],
   "source": [
    "# Check data types\n",
    "df_ldv.dtypes"
   ]
  },
  {
   "cell_type": "code",
   "execution_count": 78,
   "id": "19346bcb",
   "metadata": {},
   "outputs": [
    {
     "data": {
      "text/plain": [
       "77"
      ]
     },
     "execution_count": 78,
     "metadata": {},
     "output_type": "execute_result"
    }
   ],
   "source": [
    "# Count the number of distinct values in each column\n",
    "df_ldv['sales_share'].nunique()"
   ]
  },
  {
   "cell_type": "code",
   "execution_count": 81,
   "id": "3cdd3474",
   "metadata": {},
   "outputs": [
    {
     "data": {
      "text/html": [
       "<div>\n",
       "<style scoped>\n",
       "    .dataframe tbody tr th:only-of-type {\n",
       "        vertical-align: middle;\n",
       "    }\n",
       "\n",
       "    .dataframe tbody tr th {\n",
       "        vertical-align: top;\n",
       "    }\n",
       "\n",
       "    .dataframe thead th {\n",
       "        text-align: right;\n",
       "    }\n",
       "</style>\n",
       "<table border=\"1\" class=\"dataframe\">\n",
       "  <thead>\n",
       "    <tr style=\"text-align: right;\">\n",
       "      <th></th>\n",
       "      <th>sales</th>\n",
       "    </tr>\n",
       "  </thead>\n",
       "  <tbody>\n",
       "    <tr>\n",
       "      <th>count</th>\n",
       "      <td>118.000000</td>\n",
       "    </tr>\n",
       "    <tr>\n",
       "      <th>mean</th>\n",
       "      <td>18062.576271</td>\n",
       "    </tr>\n",
       "    <tr>\n",
       "      <th>std</th>\n",
       "      <td>50147.743077</td>\n",
       "    </tr>\n",
       "    <tr>\n",
       "      <th>min</th>\n",
       "      <td>12.000000</td>\n",
       "    </tr>\n",
       "    <tr>\n",
       "      <th>25%</th>\n",
       "      <td>662.750000</td>\n",
       "    </tr>\n",
       "    <tr>\n",
       "      <th>50%</th>\n",
       "      <td>3286.000000</td>\n",
       "    </tr>\n",
       "    <tr>\n",
       "      <th>75%</th>\n",
       "      <td>13207.000000</td>\n",
       "    </tr>\n",
       "    <tr>\n",
       "      <th>max</th>\n",
       "      <td>465295.000000</td>\n",
       "    </tr>\n",
       "  </tbody>\n",
       "</table>\n",
       "</div>"
      ],
      "text/plain": [
       "               sales\n",
       "count     118.000000\n",
       "mean    18062.576271\n",
       "std     50147.743077\n",
       "min        12.000000\n",
       "25%       662.750000\n",
       "50%      3286.000000\n",
       "75%     13207.000000\n",
       "max    465295.000000"
      ]
     },
     "execution_count": 81,
     "metadata": {},
     "output_type": "execute_result"
    }
   ],
   "source": [
    "# Describe the dataset\n",
    "df_ldv.describe()"
   ]
  },
  {
   "cell_type": "code",
   "execution_count": 92,
   "id": "daca29c0",
   "metadata": {},
   "outputs": [
    {
     "data": {
      "text/plain": [
       "5       9\n",
       "2       6\n",
       "6       5\n",
       "4       4\n",
       "11      4\n",
       "       ..\n",
       "3.51    1\n",
       "7.60    1\n",
       "6.69    1\n",
       "5.31    1\n",
       "7.42    1\n",
       "Name: sales_share, Length: 77, dtype: int64"
      ]
     },
     "execution_count": 92,
     "metadata": {},
     "output_type": "execute_result"
    }
   ],
   "source": [
    "# Remove '%' from column 'sales_share'\n",
    "df_ldv['sales_share']=df_ldv['sales_share'].str.replace('%','')\n",
    "df_ldv['sales_share'].value_counts(dropna = False)"
   ]
  },
  {
   "cell_type": "code",
   "execution_count": 93,
   "id": "444bcd84",
   "metadata": {},
   "outputs": [
    {
     "data": {
      "text/plain": [
       "dtype('float64')"
      ]
     },
     "execution_count": 93,
     "metadata": {},
     "output_type": "execute_result"
    }
   ],
   "source": [
    "# Change the data type of column 'sales_share'\n",
    "df_ldv['sales_share'] = df_ldv['sales_share'].astype('float')\n",
    "df_ldv['sales_share'].dtype"
   ]
  },
  {
   "cell_type": "code",
   "execution_count": 94,
   "id": "78831e5b",
   "metadata": {
    "scrolled": true
   },
   "outputs": [
    {
     "data": {
      "text/plain": [
       "0.0500    9\n",
       "0.0200    6\n",
       "0.0600    5\n",
       "0.0400    4\n",
       "0.1100    4\n",
       "         ..\n",
       "0.0351    1\n",
       "0.0760    1\n",
       "0.0669    1\n",
       "0.0531    1\n",
       "0.0742    1\n",
       "Name: sales_share, Length: 76, dtype: int64"
      ]
     },
     "execution_count": 94,
     "metadata": {},
     "output_type": "execute_result"
    }
   ],
   "source": [
    "# Convert the column 'sales_share' to current fraction\n",
    "df_ldv['sales_share']=df_ldv['sales_share']/100\n",
    "df_ldv['sales_share'].value_counts(dropna = False)"
   ]
  },
  {
   "cell_type": "code",
   "execution_count": 95,
   "id": "b3048d72",
   "metadata": {},
   "outputs": [
    {
     "data": {
      "text/plain": [
       "count    118.000000\n",
       "mean       0.096574\n",
       "std        0.070617\n",
       "min        0.000000\n",
       "25%        0.050000\n",
       "50%        0.072650\n",
       "75%        0.134425\n",
       "max        0.337500\n",
       "Name: sales_share, dtype: float64"
      ]
     },
     "execution_count": 95,
     "metadata": {},
     "output_type": "execute_result"
    }
   ],
   "source": [
    "# Describe the column 'sales_share'\n",
    "df_ldv['sales_share'].describe()"
   ]
  },
  {
   "cell_type": "markdown",
   "id": "7b97004d",
   "metadata": {},
   "source": [
    "### Dataset: ev_chargers"
   ]
  },
  {
   "cell_type": "code",
   "execution_count": 96,
   "id": "505403a1",
   "metadata": {},
   "outputs": [
    {
     "data": {
      "text/html": [
       "<div>\n",
       "<style scoped>\n",
       "    .dataframe tbody tr th:only-of-type {\n",
       "        vertical-align: middle;\n",
       "    }\n",
       "\n",
       "    .dataframe tbody tr th {\n",
       "        vertical-align: top;\n",
       "    }\n",
       "\n",
       "    .dataframe thead th {\n",
       "        text-align: right;\n",
       "    }\n",
       "</style>\n",
       "<table border=\"1\" class=\"dataframe\">\n",
       "  <thead>\n",
       "    <tr style=\"text-align: right;\">\n",
       "      <th></th>\n",
       "      <th>county</th>\n",
       "      <th>public_level1</th>\n",
       "      <th>shared_private_level1</th>\n",
       "      <th>public_level2</th>\n",
       "      <th>shared_private_level2</th>\n",
       "      <th>public_dc_fast</th>\n",
       "      <th>shared_private_dc_fast</th>\n",
       "      <th>total</th>\n",
       "    </tr>\n",
       "  </thead>\n",
       "  <tbody>\n",
       "    <tr>\n",
       "      <th>0</th>\n",
       "      <td>Alameda</td>\n",
       "      <td>6</td>\n",
       "      <td>70</td>\n",
       "      <td>1671</td>\n",
       "      <td>1583</td>\n",
       "      <td>332</td>\n",
       "      <td>35</td>\n",
       "      <td>3697</td>\n",
       "    </tr>\n",
       "    <tr>\n",
       "      <th>1</th>\n",
       "      <td>Alpine</td>\n",
       "      <td>0</td>\n",
       "      <td>0</td>\n",
       "      <td>14</td>\n",
       "      <td>0</td>\n",
       "      <td>0</td>\n",
       "      <td>0</td>\n",
       "      <td>14</td>\n",
       "    </tr>\n",
       "    <tr>\n",
       "      <th>2</th>\n",
       "      <td>Amador</td>\n",
       "      <td>0</td>\n",
       "      <td>0</td>\n",
       "      <td>25</td>\n",
       "      <td>6</td>\n",
       "      <td>8</td>\n",
       "      <td>0</td>\n",
       "      <td>39</td>\n",
       "    </tr>\n",
       "    <tr>\n",
       "      <th>3</th>\n",
       "      <td>Butte</td>\n",
       "      <td>6</td>\n",
       "      <td>0</td>\n",
       "      <td>41</td>\n",
       "      <td>23</td>\n",
       "      <td>24</td>\n",
       "      <td>0</td>\n",
       "      <td>94</td>\n",
       "    </tr>\n",
       "    <tr>\n",
       "      <th>4</th>\n",
       "      <td>Calaveras</td>\n",
       "      <td>0</td>\n",
       "      <td>2</td>\n",
       "      <td>7</td>\n",
       "      <td>0</td>\n",
       "      <td>12</td>\n",
       "      <td>0</td>\n",
       "      <td>21</td>\n",
       "    </tr>\n",
       "    <tr>\n",
       "      <th>5</th>\n",
       "      <td>Colusa</td>\n",
       "      <td>0</td>\n",
       "      <td>0</td>\n",
       "      <td>18</td>\n",
       "      <td>2</td>\n",
       "      <td>18</td>\n",
       "      <td>0</td>\n",
       "      <td>38</td>\n",
       "    </tr>\n",
       "    <tr>\n",
       "      <th>6</th>\n",
       "      <td>Contra Costa</td>\n",
       "      <td>3</td>\n",
       "      <td>2</td>\n",
       "      <td>600</td>\n",
       "      <td>599</td>\n",
       "      <td>245</td>\n",
       "      <td>2</td>\n",
       "      <td>1451</td>\n",
       "    </tr>\n",
       "    <tr>\n",
       "      <th>7</th>\n",
       "      <td>Del Norte</td>\n",
       "      <td>0</td>\n",
       "      <td>0</td>\n",
       "      <td>12</td>\n",
       "      <td>0</td>\n",
       "      <td>17</td>\n",
       "      <td>0</td>\n",
       "      <td>29</td>\n",
       "    </tr>\n",
       "    <tr>\n",
       "      <th>8</th>\n",
       "      <td>El Dorado</td>\n",
       "      <td>1</td>\n",
       "      <td>0</td>\n",
       "      <td>124</td>\n",
       "      <td>5</td>\n",
       "      <td>49</td>\n",
       "      <td>0</td>\n",
       "      <td>179</td>\n",
       "    </tr>\n",
       "    <tr>\n",
       "      <th>9</th>\n",
       "      <td>Fresno</td>\n",
       "      <td>8</td>\n",
       "      <td>1</td>\n",
       "      <td>574</td>\n",
       "      <td>329</td>\n",
       "      <td>208</td>\n",
       "      <td>13</td>\n",
       "      <td>1133</td>\n",
       "    </tr>\n",
       "  </tbody>\n",
       "</table>\n",
       "</div>"
      ],
      "text/plain": [
       "         county  public_level1  shared_private_level1  public_level2  \\\n",
       "0       Alameda              6                     70           1671   \n",
       "1        Alpine              0                      0             14   \n",
       "2        Amador              0                      0             25   \n",
       "3         Butte              6                      0             41   \n",
       "4     Calaveras              0                      2              7   \n",
       "5        Colusa              0                      0             18   \n",
       "6  Contra Costa              3                      2            600   \n",
       "7     Del Norte              0                      0             12   \n",
       "8     El Dorado              1                      0            124   \n",
       "9        Fresno              8                      1            574   \n",
       "\n",
       "   shared_private_level2  public_dc_fast  shared_private_dc_fast  total  \n",
       "0                   1583             332                      35   3697  \n",
       "1                      0               0                       0     14  \n",
       "2                      6               8                       0     39  \n",
       "3                     23              24                       0     94  \n",
       "4                      0              12                       0     21  \n",
       "5                      2              18                       0     38  \n",
       "6                    599             245                       2   1451  \n",
       "7                      0              17                       0     29  \n",
       "8                      5              49                       0    179  \n",
       "9                    329             208                      13   1133  "
      ]
     },
     "execution_count": 96,
     "metadata": {},
     "output_type": "execute_result"
    }
   ],
   "source": [
    "# Import ev_chargers.csv\n",
    "path=r'/Users/elvachen/Documents/DA Learning/Immersion-Exercise/6/2original data'\n",
    "df_charger=pd.read_csv(os.path.join(path,'ev_chargers.csv'),index_col = False)\n",
    "df_charger.head(10)"
   ]
  },
  {
   "cell_type": "code",
   "execution_count": 97,
   "id": "ace66e87",
   "metadata": {},
   "outputs": [
    {
     "data": {
      "text/plain": [
       "Alameda            1\n",
       "Alpine             1\n",
       "Riverside          1\n",
       "Sacramento         1\n",
       "San Benito         1\n",
       "San Bernardino     1\n",
       "San Diego          1\n",
       "San Francisco      1\n",
       "San Joaquin        1\n",
       "San Luis Obispo    1\n",
       "San Mateo          1\n",
       "Santa Barbara      1\n",
       "Santa Clara        1\n",
       "Santa Cruz         1\n",
       "Shasta             1\n",
       "Sierra             1\n",
       "Siskiyou           1\n",
       "Solano             1\n",
       "Sonoma             1\n",
       "Stanislaus         1\n",
       "Sutter             1\n",
       "Tehama             1\n",
       "Trinity            1\n",
       "Tulare             1\n",
       "Tuolumne           1\n",
       "Unknown            1\n",
       "Ventura            1\n",
       "Yolo               1\n",
       "Yuba               1\n",
       "Plumas             1\n",
       "Placer             1\n",
       "Orange             1\n",
       "Kern               1\n",
       "Amador             1\n",
       "Butte              1\n",
       "Calaveras          1\n",
       "Colusa             1\n",
       "Contra Costa       1\n",
       "Del Norte          1\n",
       "El Dorado          1\n",
       "Fresno             1\n",
       "Glenn              1\n",
       "Humboldt           1\n",
       "Imperial           1\n",
       "Inyo               1\n",
       "Kings              1\n",
       "Nevada             1\n",
       "Lake               1\n",
       "Lassen             1\n",
       "Los Angeles        1\n",
       "Madera             1\n",
       "Marin              1\n",
       "Mariposa           1\n",
       "Mendocino          1\n",
       "Merced             1\n",
       "Modoc              1\n",
       "Mono               1\n",
       "Monterey           1\n",
       "Napa               1\n",
       "Total              1\n",
       "Name: county, dtype: int64"
      ]
     },
     "execution_count": 97,
     "metadata": {},
     "output_type": "execute_result"
    }
   ],
   "source": [
    "# Check missing values\n",
    "df_charger['county'].value_counts(dropna = False)"
   ]
  },
  {
   "cell_type": "code",
   "execution_count": 101,
   "id": "407add43",
   "metadata": {},
   "outputs": [
    {
     "ename": "NameError",
     "evalue": "name 'df_changer' is not defined",
     "output_type": "error",
     "traceback": [
      "\u001b[0;31m---------------------------------------------------------------------------\u001b[0m",
      "\u001b[0;31mNameError\u001b[0m                                 Traceback (most recent call last)",
      "\u001b[0;32m/var/folders/gm/t0xtns994vv6b7pckq4j7jd00000gn/T/ipykernel_20880/2539289054.py\u001b[0m in \u001b[0;36m<module>\u001b[0;34m\u001b[0m\n\u001b[1;32m      1\u001b[0m \u001b[0;31m# Drop the irrelevant columns\u001b[0m\u001b[0;34m\u001b[0m\u001b[0;34m\u001b[0m\u001b[0m\n\u001b[1;32m      2\u001b[0m \u001b[0mdf_charger\u001b[0m\u001b[0;34m=\u001b[0m\u001b[0mdf_charger\u001b[0m\u001b[0;34m.\u001b[0m\u001b[0mdrop\u001b[0m\u001b[0;34m(\u001b[0m\u001b[0mcolumns\u001b[0m\u001b[0;34m=\u001b[0m\u001b[0;34m[\u001b[0m\u001b[0;34m'public_level1'\u001b[0m\u001b[0;34m,\u001b[0m\u001b[0;34m'shared_private_level1'\u001b[0m\u001b[0;34m,\u001b[0m\u001b[0;34m'public_level2'\u001b[0m\u001b[0;34m,\u001b[0m\u001b[0;34m'shared_private_level2'\u001b[0m\u001b[0;34m,\u001b[0m\u001b[0;34m'public_dc_fast'\u001b[0m\u001b[0;34m,\u001b[0m\u001b[0;34m'shared_private_dc_fast'\u001b[0m\u001b[0;34m]\u001b[0m\u001b[0;34m)\u001b[0m\u001b[0;34m\u001b[0m\u001b[0;34m\u001b[0m\u001b[0m\n\u001b[0;32m----> 3\u001b[0;31m \u001b[0mdf_changer\u001b[0m\u001b[0;34m.\u001b[0m\u001b[0mhead\u001b[0m\u001b[0;34m(\u001b[0m\u001b[0;36m5\u001b[0m\u001b[0;34m)\u001b[0m\u001b[0;34m\u001b[0m\u001b[0;34m\u001b[0m\u001b[0m\n\u001b[0m",
      "\u001b[0;31mNameError\u001b[0m: name 'df_changer' is not defined"
     ]
    }
   ],
   "source": [
    "# Drop the irrelevant columns\n",
    "df_charger=df_charger.drop(columns=['public_level1','shared_private_level1','public_level2','shared_private_level2','public_dc_fast','shared_private_dc_fast'])\n",
    "df_changer.head(5)"
   ]
  },
  {
   "cell_type": "code",
   "execution_count": 104,
   "id": "7f5938e0",
   "metadata": {},
   "outputs": [
    {
     "data": {
      "text/html": [
       "<div>\n",
       "<style scoped>\n",
       "    .dataframe tbody tr th:only-of-type {\n",
       "        vertical-align: middle;\n",
       "    }\n",
       "\n",
       "    .dataframe tbody tr th {\n",
       "        vertical-align: top;\n",
       "    }\n",
       "\n",
       "    .dataframe thead th {\n",
       "        text-align: right;\n",
       "    }\n",
       "</style>\n",
       "<table border=\"1\" class=\"dataframe\">\n",
       "  <thead>\n",
       "    <tr style=\"text-align: right;\">\n",
       "      <th></th>\n",
       "      <th>total</th>\n",
       "    </tr>\n",
       "  </thead>\n",
       "  <tbody>\n",
       "    <tr>\n",
       "      <th>count</th>\n",
       "      <td>60.00000</td>\n",
       "    </tr>\n",
       "    <tr>\n",
       "      <th>mean</th>\n",
       "      <td>2634.10000</td>\n",
       "    </tr>\n",
       "    <tr>\n",
       "      <th>std</th>\n",
       "      <td>10664.77489</td>\n",
       "    </tr>\n",
       "    <tr>\n",
       "      <th>min</th>\n",
       "      <td>1.00000</td>\n",
       "    </tr>\n",
       "    <tr>\n",
       "      <th>25%</th>\n",
       "      <td>32.00000</td>\n",
       "    </tr>\n",
       "    <tr>\n",
       "      <th>50%</th>\n",
       "      <td>150.50000</td>\n",
       "    </tr>\n",
       "    <tr>\n",
       "      <th>75%</th>\n",
       "      <td>752.75000</td>\n",
       "    </tr>\n",
       "    <tr>\n",
       "      <th>max</th>\n",
       "      <td>79023.00000</td>\n",
       "    </tr>\n",
       "  </tbody>\n",
       "</table>\n",
       "</div>"
      ],
      "text/plain": [
       "             total\n",
       "count     60.00000\n",
       "mean    2634.10000\n",
       "std    10664.77489\n",
       "min        1.00000\n",
       "25%       32.00000\n",
       "50%      150.50000\n",
       "75%      752.75000\n",
       "max    79023.00000"
      ]
     },
     "execution_count": 104,
     "metadata": {},
     "output_type": "execute_result"
    }
   ],
   "source": [
    "# Describe the column 'total'\n",
    "df_charger.describe()"
   ]
  },
  {
   "cell_type": "markdown",
   "id": "46d25434",
   "metadata": {},
   "source": [
    "### Dataset: cal_population"
   ]
  },
  {
   "cell_type": "code",
   "execution_count": 4,
   "id": "6b080dfc",
   "metadata": {},
   "outputs": [
    {
     "data": {
      "text/html": [
       "<div>\n",
       "<style scoped>\n",
       "    .dataframe tbody tr th:only-of-type {\n",
       "        vertical-align: middle;\n",
       "    }\n",
       "\n",
       "    .dataframe tbody tr th {\n",
       "        vertical-align: top;\n",
       "    }\n",
       "\n",
       "    .dataframe thead th {\n",
       "        text-align: right;\n",
       "    }\n",
       "</style>\n",
       "<table border=\"1\" class=\"dataframe\">\n",
       "  <thead>\n",
       "    <tr style=\"text-align: right;\">\n",
       "      <th></th>\n",
       "      <th>county</th>\n",
       "      <th>year</th>\n",
       "      <th>population</th>\n",
       "    </tr>\n",
       "  </thead>\n",
       "  <tbody>\n",
       "    <tr>\n",
       "      <th>0</th>\n",
       "      <td>Alameda</td>\n",
       "      <td>2010</td>\n",
       "      <td>1512986</td>\n",
       "    </tr>\n",
       "    <tr>\n",
       "      <th>1</th>\n",
       "      <td>Alameda</td>\n",
       "      <td>2011</td>\n",
       "      <td>1530915</td>\n",
       "    </tr>\n",
       "    <tr>\n",
       "      <th>2</th>\n",
       "      <td>Alameda</td>\n",
       "      <td>2012</td>\n",
       "      <td>1553764</td>\n",
       "    </tr>\n",
       "    <tr>\n",
       "      <th>3</th>\n",
       "      <td>Alameda</td>\n",
       "      <td>2013</td>\n",
       "      <td>1579593</td>\n",
       "    </tr>\n",
       "    <tr>\n",
       "      <th>4</th>\n",
       "      <td>Alameda</td>\n",
       "      <td>2014</td>\n",
       "      <td>1607792</td>\n",
       "    </tr>\n",
       "  </tbody>\n",
       "</table>\n",
       "</div>"
      ],
      "text/plain": [
       "    county  year  population\n",
       "0  Alameda  2010     1512986\n",
       "1  Alameda  2011     1530915\n",
       "2  Alameda  2012     1553764\n",
       "3  Alameda  2013     1579593\n",
       "4  Alameda  2014     1607792"
      ]
     },
     "execution_count": 4,
     "metadata": {},
     "output_type": "execute_result"
    }
   ],
   "source": [
    "# Import cal_population.csv\n",
    "path=r'/Users/elvachen/Documents/DA Learning/Immersion-Exercise/6/2original data'\n",
    "df_cp=pd.read_csv(os.path.join(path,'cal_population.csv'),index_col = False)\n",
    "df_cp.head()"
   ]
  },
  {
   "cell_type": "code",
   "execution_count": 5,
   "id": "44cb75cb",
   "metadata": {},
   "outputs": [
    {
     "data": {
      "text/plain": [
       "county        object\n",
       "year           int64\n",
       "population     int64\n",
       "dtype: object"
      ]
     },
     "execution_count": 5,
     "metadata": {},
     "output_type": "execute_result"
    }
   ],
   "source": [
    "# Check data type of the dataset\n",
    "df_cp.dtypes"
   ]
  },
  {
   "cell_type": "code",
   "execution_count": 125,
   "id": "a3aaf152",
   "metadata": {},
   "outputs": [
    {
     "data": {
      "text/plain": [
       "dtype('int64')"
      ]
     },
     "execution_count": 125,
     "metadata": {},
     "output_type": "execute_result"
    }
   ],
   "source": [
    "# Change the data type of column population\n",
    "df_cp['population']=df_cp['population'].str.replace(',','')\n",
    "df_cp['population'] = df_cp['population'].astype('int64')\n",
    "df_cp['population'].dtype"
   ]
  },
  {
   "cell_type": "code",
   "execution_count": 7,
   "id": "3757963d",
   "metadata": {},
   "outputs": [
    {
     "data": {
      "text/plain": [
       "count    6.960000e+02\n",
       "mean     6.679878e+05\n",
       "std      1.441978e+06\n",
       "min      1.047000e+03\n",
       "25%      4.532575e+04\n",
       "50%      1.815020e+05\n",
       "75%      7.203420e+05\n",
       "max      1.010571e+07\n",
       "Name: population, dtype: float64"
      ]
     },
     "execution_count": 7,
     "metadata": {},
     "output_type": "execute_result"
    }
   ],
   "source": [
    "# Describe the dataset\n",
    "df_cp['population'].describe()"
   ]
  },
  {
   "cell_type": "markdown",
   "id": "27353af8",
   "metadata": {},
   "source": [
    "### Dataset: gasoline_diesel"
   ]
  },
  {
   "cell_type": "code",
   "execution_count": 5,
   "id": "6fa663ef",
   "metadata": {},
   "outputs": [
    {
     "data": {
      "text/html": [
       "<div>\n",
       "<style scoped>\n",
       "    .dataframe tbody tr th:only-of-type {\n",
       "        vertical-align: middle;\n",
       "    }\n",
       "\n",
       "    .dataframe tbody tr th {\n",
       "        vertical-align: top;\n",
       "    }\n",
       "\n",
       "    .dataframe thead th {\n",
       "        text-align: right;\n",
       "    }\n",
       "</style>\n",
       "<table border=\"1\" class=\"dataframe\">\n",
       "  <thead>\n",
       "    <tr style=\"text-align: right;\">\n",
       "      <th></th>\n",
       "      <th>date</th>\n",
       "      <th>year</th>\n",
       "      <th>gasoline_price</th>\n",
       "      <th>diesel_price</th>\n",
       "    </tr>\n",
       "  </thead>\n",
       "  <tbody>\n",
       "    <tr>\n",
       "      <th>0</th>\n",
       "      <td>January 1, 1996</td>\n",
       "      <td>1996</td>\n",
       "      <td>1.155</td>\n",
       "      <td>1.326</td>\n",
       "    </tr>\n",
       "    <tr>\n",
       "      <th>1</th>\n",
       "      <td>January 8, 1996</td>\n",
       "      <td>1996</td>\n",
       "      <td>1.152</td>\n",
       "      <td>1.332</td>\n",
       "    </tr>\n",
       "    <tr>\n",
       "      <th>2</th>\n",
       "      <td>January 15, 1996</td>\n",
       "      <td>1996</td>\n",
       "      <td>1.167</td>\n",
       "      <td>1.324</td>\n",
       "    </tr>\n",
       "    <tr>\n",
       "      <th>3</th>\n",
       "      <td>January 22, 1996</td>\n",
       "      <td>1996</td>\n",
       "      <td>1.168</td>\n",
       "      <td>1.324</td>\n",
       "    </tr>\n",
       "    <tr>\n",
       "      <th>4</th>\n",
       "      <td>January 29, 1996</td>\n",
       "      <td>1996</td>\n",
       "      <td>1.166</td>\n",
       "      <td>1.303</td>\n",
       "    </tr>\n",
       "    <tr>\n",
       "      <th>5</th>\n",
       "      <td>February 5, 1996</td>\n",
       "      <td>1996</td>\n",
       "      <td>1.161</td>\n",
       "      <td>1.282</td>\n",
       "    </tr>\n",
       "    <tr>\n",
       "      <th>6</th>\n",
       "      <td>February 12, 1996</td>\n",
       "      <td>1996</td>\n",
       "      <td>1.163</td>\n",
       "      <td>1.276</td>\n",
       "    </tr>\n",
       "    <tr>\n",
       "      <th>7</th>\n",
       "      <td>February 19, 1996</td>\n",
       "      <td>1996</td>\n",
       "      <td>1.178</td>\n",
       "      <td>1.270</td>\n",
       "    </tr>\n",
       "    <tr>\n",
       "      <th>8</th>\n",
       "      <td>February 26, 1996</td>\n",
       "      <td>1996</td>\n",
       "      <td>1.202</td>\n",
       "      <td>1.278</td>\n",
       "    </tr>\n",
       "    <tr>\n",
       "      <th>9</th>\n",
       "      <td>March 4, 1996</td>\n",
       "      <td>1996</td>\n",
       "      <td>1.218</td>\n",
       "      <td>1.274</td>\n",
       "    </tr>\n",
       "  </tbody>\n",
       "</table>\n",
       "</div>"
      ],
      "text/plain": [
       "                date  year  gasoline_price  diesel_price\n",
       "0    January 1, 1996  1996           1.155         1.326\n",
       "1    January 8, 1996  1996           1.152         1.332\n",
       "2   January 15, 1996  1996           1.167         1.324\n",
       "3   January 22, 1996  1996           1.168         1.324\n",
       "4   January 29, 1996  1996           1.166         1.303\n",
       "5   February 5, 1996  1996           1.161         1.282\n",
       "6  February 12, 1996  1996           1.163         1.276\n",
       "7  February 19, 1996  1996           1.178         1.270\n",
       "8  February 26, 1996  1996           1.202         1.278\n",
       "9      March 4, 1996  1996           1.218         1.274"
      ]
     },
     "execution_count": 5,
     "metadata": {},
     "output_type": "execute_result"
    }
   ],
   "source": [
    "# Import gasoline_diesel.csv\n",
    "path=r'/Users/elvachen/Documents/DA Learning/Immersion-Exercise/6/2original data'\n",
    "df_gd=pd.read_csv(os.path.join(path,'gasoline_diesel.csv'),index_col = False)\n",
    "df_gd.head(10)"
   ]
  },
  {
   "cell_type": "code",
   "execution_count": 6,
   "id": "e24e8bf7",
   "metadata": {},
   "outputs": [
    {
     "data": {
      "text/plain": [
       "date               object\n",
       "year                int64\n",
       "gasoline_price    float64\n",
       "diesel_price      float64\n",
       "dtype: object"
      ]
     },
     "execution_count": 6,
     "metadata": {},
     "output_type": "execute_result"
    }
   ],
   "source": [
    "# Check data type of the dataset\n",
    "df_gd.dtypes"
   ]
  },
  {
   "cell_type": "code",
   "execution_count": 7,
   "id": "f637b669",
   "metadata": {},
   "outputs": [
    {
     "data": {
      "text/html": [
       "<div>\n",
       "<style scoped>\n",
       "    .dataframe tbody tr th:only-of-type {\n",
       "        vertical-align: middle;\n",
       "    }\n",
       "\n",
       "    .dataframe tbody tr th {\n",
       "        vertical-align: top;\n",
       "    }\n",
       "\n",
       "    .dataframe thead th {\n",
       "        text-align: right;\n",
       "    }\n",
       "</style>\n",
       "<table border=\"1\" class=\"dataframe\">\n",
       "  <thead>\n",
       "    <tr style=\"text-align: right;\">\n",
       "      <th></th>\n",
       "      <th>year</th>\n",
       "      <th>gasoline_price</th>\n",
       "      <th>diesel_price</th>\n",
       "    </tr>\n",
       "  </thead>\n",
       "  <tbody>\n",
       "    <tr>\n",
       "      <th>count</th>\n",
       "      <td>1380.000000</td>\n",
       "      <td>1380.000000</td>\n",
       "      <td>1380.000000</td>\n",
       "    </tr>\n",
       "    <tr>\n",
       "      <th>mean</th>\n",
       "      <td>2008.718841</td>\n",
       "      <td>2.740583</td>\n",
       "      <td>2.842578</td>\n",
       "    </tr>\n",
       "    <tr>\n",
       "      <th>std</th>\n",
       "      <td>7.640058</td>\n",
       "      <td>1.024916</td>\n",
       "      <td>1.134286</td>\n",
       "    </tr>\n",
       "    <tr>\n",
       "      <th>min</th>\n",
       "      <td>1996.000000</td>\n",
       "      <td>1.074000</td>\n",
       "      <td>1.097000</td>\n",
       "    </tr>\n",
       "    <tr>\n",
       "      <th>25%</th>\n",
       "      <td>2002.000000</td>\n",
       "      <td>1.710750</td>\n",
       "      <td>1.617750</td>\n",
       "    </tr>\n",
       "    <tr>\n",
       "      <th>50%</th>\n",
       "      <td>2009.000000</td>\n",
       "      <td>2.911000</td>\n",
       "      <td>2.925000</td>\n",
       "    </tr>\n",
       "    <tr>\n",
       "      <th>75%</th>\n",
       "      <td>2015.000000</td>\n",
       "      <td>3.547750</td>\n",
       "      <td>3.899500</td>\n",
       "    </tr>\n",
       "    <tr>\n",
       "      <th>max</th>\n",
       "      <td>2022.000000</td>\n",
       "      <td>6.178000</td>\n",
       "      <td>6.831000</td>\n",
       "    </tr>\n",
       "  </tbody>\n",
       "</table>\n",
       "</div>"
      ],
      "text/plain": [
       "              year  gasoline_price  diesel_price\n",
       "count  1380.000000     1380.000000   1380.000000\n",
       "mean   2008.718841        2.740583      2.842578\n",
       "std       7.640058        1.024916      1.134286\n",
       "min    1996.000000        1.074000      1.097000\n",
       "25%    2002.000000        1.710750      1.617750\n",
       "50%    2009.000000        2.911000      2.925000\n",
       "75%    2015.000000        3.547750      3.899500\n",
       "max    2022.000000        6.178000      6.831000"
      ]
     },
     "execution_count": 7,
     "metadata": {},
     "output_type": "execute_result"
    }
   ],
   "source": [
    "# Describe the dataset\n",
    "df_gd.describe()"
   ]
  }
 ],
 "metadata": {
  "kernelspec": {
   "display_name": "Python 3 (ipykernel)",
   "language": "python",
   "name": "python3"
  },
  "language_info": {
   "codemirror_mode": {
    "name": "ipython",
    "version": 3
   },
   "file_extension": ".py",
   "mimetype": "text/x-python",
   "name": "python",
   "nbconvert_exporter": "python",
   "pygments_lexer": "ipython3",
   "version": "3.9.7"
  }
 },
 "nbformat": 4,
 "nbformat_minor": 5
}
